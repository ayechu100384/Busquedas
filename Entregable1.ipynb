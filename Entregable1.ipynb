{
 "cells": [
  {
   "cell_type": "markdown",
   "metadata": {},
   "source": [
    "# Inteligencia Computacional\n",
    "\n",
    "### Máster Universitario en Ingeniería Informática\n",
    "\n",
    "\n",
    "# Entregable 1\n",
    "\n",
    "En esta práctica implementaremos una búsqueda no clásica para segmentar los objetos de una imagen.\n"
   ]
  },
  {
   "cell_type": "code",
   "execution_count": 2,
   "metadata": {
    "collapsed": true
   },
   "outputs": [],
   "source": [
    " #Imports\n",
    "from skimage import io\n",
    "import matplotlib.pyplot as plt\n",
    "import numpy as np\n",
    "from collections import Counter\n",
    "from __future__ import division # Para obtener floats de las divisiones\n",
    "import random\n",
    "from time import time"
   ]
  },
  {
   "cell_type": "code",
   "execution_count": 2,
   "metadata": {},
   "outputs": [
    {
     "name": "stdout",
     "output_type": "stream",
     "text": [
      "(321L, 481L, 3L)\n"
     ]
    }
   ],
   "source": [
    "# Leer la imagen\n",
    "imagen = io.imread('caballos.jpg')\n",
    "print imagen.shape"
   ]
  },
  {
   "cell_type": "code",
   "execution_count": 8,
   "metadata": {},
   "outputs": [
    {
     "name": "stdout",
     "output_type": "stream",
     "text": [
      "umbral inicial:\n",
      "[[  16.  190.  250.]]\n",
      "La varianza máxima es:\n",
      "[ 76032.87135396]\n",
      "La varianza máxima es:\n",
      "[ 76032.87135396]\n",
      "Correspondiente al umbral: \n",
      "[ 16 180 250]\n",
      "En un tiempo de ejecución:\n",
      "30.1289999485\n"
     ]
    },
    {
     "data": {
      "image/png": "[encoded data removed]",
      "text/plain": [
       "<matplotlib.figure.Figure at 0xb970cc0>"
      ]
     },
     "metadata": {},
     "output_type": "display_data"
    }
   ],
   "source": [
    "# BÚSQUEDA\n",
    "imagen = io.imread('caballos.jpg')\n",
    "\n",
    "# Parámetros de la búsqueda\n",
    "n_vecinos = 3\n",
    "prob = 0.2 # Probabilidad con la que empezaremos cogiendo al mejor vecino\n",
    "to = 40 # Temperatura: la iniciamos a 40 iteraciones\n",
    "temperatura = 40 #Iniciamos la temperatura\n",
    "n_clases = 2\n",
    "n_umbrales = n_clases-1\n",
    "\n",
    "# Iniciamos un umbral o umbrales aleatorios o a un umbral resultado de anteriores búsquedas\n",
    "umbrales_iniciales = np.zeros((n_umbrales,3))\n",
    "for i in range(0,n_umbrales):\n",
    "    umbrales_iniciales[i] = [random.randint(0,255) for _ in range(3)] # Revisar si 255 o hasta 254\n",
    "# Mejor umbral hasta el momento\n",
    "#umbrales_iniciales[0] = [202,159,73]\n",
    "print 'umbral inicial:'\n",
    "print umbrales_iniciales\n",
    "\n",
    "# Calculamos la varianza del umbral inicial\n",
    "[varianza_max, imagen_clases_max, media_max] = calcularVarianza(imagen, umbrales_iniciales, n_clases, n_umbrales)\n",
    "\n",
    "# Iniciamos la búsqueda\n",
    "umbral_max = umbrales_iniciales.copy()\n",
    "umbral = umbrales_iniciales.copy()\n",
    "varianza = np.zeros((n_vecinos,1))\n",
    "vecinos = np.zeros((n_vecinos,3))\n",
    "imagen_clases = np.zeros((imagen.shape[0], imagen.shape[1], n_vecinos))\n",
    "media = np.zeros((n_clases,3,n_vecinos))\n",
    "tiempo_inicial = time() \n",
    "iters_repes = 0 # Número de iteraciones sin mejorar la varianza\n",
    "while temperatura > 0:\n",
    "    \n",
    "    # Generamos vecinos para cada conjunto de umbrales, conforme la temperatura disminuye, también lo hace la variación de los vecinos\n",
    "    vecinos = generarVecinos(umbral, n_vecinos, to, temperatura)\n",
    "\n",
    "    # Calculamos varianza vecinos\n",
    "    for i in range(0,n_vecinos):\n",
    "        [varianza[i], imagen_clases[:,:,i], media[:,:,i]] = calcularVarianza(imagen, [vecinos[i]], n_clases, n_umbrales)\n",
    "\n",
    "    # Escogemos el mejor vecino con una probabilidad decreciente según el número de iteraciones\n",
    "    pos_umbral_actual = elegirVecino(varianza, temperatura, to, n_vecinos)\n",
    "\n",
    "    # Lo almacenamos si mejora la varianza\n",
    "    if varianza[pos_umbral_actual] > varianza_max:\n",
    "        varianza_max = varianza[pos_umbral_actual].copy()\n",
    "        umbral_max = vecinos[pos_umbral_actual].copy()\n",
    "        imagen_clases_max = imagen_clases[:,:,pos_umbral_actual].copy()\n",
    "        media_max = media[:,:,pos_umbral_actual].copy()\n",
    "        iters_repes = 0\n",
    "        print 'La varianza máxima es:'\n",
    "        print varianza_max\n",
    "        \n",
    "    # Continuamos la búsqueda en el siguiente 'nivel'\n",
    "    umbral_actual = vecinos[pos_umbral_actual]\n",
    "    temperatura -= 1\n",
    "    iters_repes += 1\n",
    "    # Si llevamos varias iteraciones sin encontrar mejores vecinos, avanzamos la salida del algoritmo\n",
    "    # Además de aumentar la probabilidad de coger vecinos peores\n",
    "    if iters_repes > 6: \n",
    "        temperatura -= 5\n",
    "\n",
    "tiempo_final= time() \n",
    "print 'La varianza máxima es:'\n",
    "print varianza_max\n",
    "print 'Correspondiente al umbral: '\n",
    "print umbral_max\n",
    "print 'En un tiempo de ejecución:'\n",
    "print tiempo_final - tiempo_inicial\n",
    "# Representar la imagen segmentada\n",
    "imagen_segmentada_colores = crearImagenSegmentada(imagen_clases_max, media_max, n_clases)\n",
    "imprimirImagen(imagen_segmentada_colores)"
   ]
  },
  {
   "cell_type": "code",
   "execution_count": 3,
   "metadata": {
    "collapsed": true
   },
   "outputs": [],
   "source": [
    "# FUNCIONES AUXILIARES PARA EL CALCULO DE LA VARIANZA\n",
    "\n",
    "def esMayor(umbral1, umbral2):\n",
    "    # Devuelve 0 si el umbral1<umbral2, sino 1\n",
    "    if ((umbral2[0]-umbral1[0]) + (umbral2[1]-umbral1[1]) + (umbral2[2]-umbral1[2])) < 0:\n",
    "        return 1\n",
    "    else: \n",
    "        return 0\n",
    "    \n",
    "def ordenamientoBurbuja(umbrales):\n",
    "    for numPasada in range(len(umbrales)-1,0,-1):\n",
    "        for i in range(numPasada):\n",
    "            if esMayor(umbrales[i], umbrales[i+1]) == 1:\n",
    "                temp = umbrales[i].copy()\n",
    "                umbrales[i] = umbrales[i+1]\n",
    "                umbrales[i+1] = temp\n",
    "    return umbrales\n",
    "\n",
    "def posicionPixel(pixel, umbrales):\n",
    "    # Devuelve 0 si el pixel<umbral1, 1 si el umbral1<pixel<umbral2 ...\n",
    "    for i in range(0, len(umbrales)):\n",
    "        if esMayor(pixel,umbrales[i]) == 0:    \n",
    "            return i\n",
    "    return i+1\n",
    "\n",
    "def crearImagenSegmentada(imagen, media, n_clases):\n",
    "    imagen_def = np.zeros((imagen.shape[0],imagen.shape[1],3))\n",
    "    for i in range(0,n_clases):\n",
    "        imagen_def[imagen == i,:] = media[i]\n",
    "    return imagen_def\n",
    "\n",
    "def imprimirImagen(imagen):\n",
    "    #Imprimimos y guardamos la imagen\n",
    "    c=np.uint8(imagen)\n",
    "    io.imshow(c)\n",
    "    plt.axis(\"off\")\n",
    "    plt.show()\n",
    "    io.imsave('miPiedraGuardado.png',c)"
   ]
  },
  {
   "cell_type": "code",
   "execution_count": 4,
   "metadata": {
    "collapsed": true,
    "scrolled": true
   },
   "outputs": [],
   "source": [
    "# FUNCIONES AUXILIARES DE LA BÚSQUEDA\n",
    "\n",
    "def calcularVarianza(imagen, umbrales, n_clases, n_umbrales):\n",
    "    umbral = ordenamientoBurbuja(umbrales)\n",
    "    # CADA CLASE UNA FILA, LOS COLORES SON LAS COLUMNAS RED = 0, GREEN = 1, BLUE = 2\n",
    "    contador = np.zeros((n_clases,1)) # numero de elementos de cada clase\n",
    "    valor = np.zeros((n_clases,3)) # Suma pixeles de cada clase, por colores\n",
    "    imagen_clases = np.zeros((imagen.shape[0],imagen.shape[1]))\n",
    "    for i in range(0,imagen.shape[0]):#recorremos por filas\n",
    "        for j in range(0,imagen.shape[1]):#recorremos por columnas\n",
    "            clase = posicionPixel(imagen[i,j,:],umbral)\n",
    "            imagen_clases[i,j] = clase\n",
    "            contador[clase] += 1\n",
    "            valor[clase] += imagen[i,j,:]\n",
    "    media = valor / contador\n",
    "    media[np.isnan(media)]=0 # Tratamos las divisiones entre cero\n",
    "    mediaTotal = sum(media) / sum(contador)\n",
    "    mediaTotal[np.isnan(mediaTotal)]=0 # Tratamos las divisiones entre cero\n",
    "    prob = contador / sum(contador)\n",
    "    varianza = sum(sum( (media - mediaTotal)**2 * prob ))\n",
    "    return varianza, imagen_clases, media\n",
    "\n",
    "def generarVecinos(umbrales, n_vecinos, to, temperatura):\n",
    "    vecinos = np.zeros((n_vecinos, 3))\n",
    "    # random.randrange(-1,2,2) genera el signo hacia el que modificamos el umbral aleatoriamente\n",
    "    vecinos[0] = umbrales + (temperatura * 10 / to * random.randrange(-1,2,2), 0, 0)\n",
    "    vecinos[1] = umbrales + (0,temperatura * 10 / to * random.randrange(-1,2,2), 0)\n",
    "    vecinos[2] = umbrales + (0,0,temperatura * 10 / to * random.randrange(-1,2,2))\n",
    "    vecinos[vecinos[:]<0] = 0\n",
    "    return vecinos.astype(int)\n",
    "\n",
    "def elegirVecino(varianza,  temperatura, to, n_vecinos):\n",
    "    probabilidad =  temperatura / to\n",
    "    rand = random.random()\n",
    "    if rand < probabilidad: # Escogemos el mejor con una probabilidad que depende de la temperatura\n",
    "        pos_max = 0\n",
    "        val_max = varianza[0]\n",
    "        for i in range(0,n_vecinos):\n",
    "            if varianza[i] > val_max:\n",
    "                pos_max = i\n",
    "                val_max = varianza[i]\n",
    "        return pos_max\n",
    "    else:\n",
    "        return random.randrange(0, n_umbrales)"
   ]
  }
 ],
 "metadata": {
  "anaconda-cloud": {},
  "kernelspec": {
   "display_name": "Python 2",
   "language": "python",
   "name": "python2"
  },
  "language_info": {
   "codemirror_mode": {
    "name": "ipython",
    "version": 2
   },
   "file_extension": ".py",
   "mimetype": "text/x-python",
   "name": "python",
   "nbconvert_exporter": "python",
   "pygments_lexer": "ipython2",
   "version": "2.7.13"
  },
  "name": "MLPipeline Newsgroup Dataset",
  "notebookId": 3638908530782612
 },
 "nbformat": 4,
 "nbformat_minor": 1
}
